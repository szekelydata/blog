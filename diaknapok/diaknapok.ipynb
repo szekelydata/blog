{
 "cells": [
  {
   "cell_type": "code",
   "execution_count": 13,
   "id": "49b205dc-2750-4b4b-9365-3cee7203dc52",
   "metadata": {
    "tags": []
   },
   "outputs": [],
   "source": [
    "import pandas as pd\n",
    "from bs4 import BeautifulSoup\n",
    "import numpy as np"
   ]
  },
  {
   "cell_type": "code",
   "execution_count": 103,
   "id": "8372664c-b1ad-48cc-a7e9-a46302293e12",
   "metadata": {
    "tags": []
   },
   "outputs": [],
   "source": [
    "f=open('2006.html','r').read()\n",
    "soup = BeautifulSoup(f, \"html.parser\")"
   ]
  },
  {
   "cell_type": "code",
   "execution_count": 104,
   "id": "ccfd5d73-bb3c-4d5d-a877-b60b90ad6f24",
   "metadata": {
    "tags": []
   },
   "outputs": [],
   "source": [
    "nested_list=[i.text.strip().split('\\n') for i in soup.findAll('p')]\n",
    "a = [item for sublist in nested_list for item in (sublist if isinstance(sublist, list) else [sublist])]\n",
    "df=pd.DataFrame([a[i].replace('16.  X-tázi eVo','16.  X-tázi eVo - 4585 p -').replace('22. mi a baj? -','22. mi a baj? - 3772 p-').strip()\n",
    "              for i in range(len(a)) if i not in [0,1,3,5,20,28,27]])\n",
    "df[1]=df[0].str.split('.').str[0].str.strip()\n",
    "df[2]=df[0].str.split('.').str[1].str.strip()\n",
    "df[3]=df[0].str.split('- ').str[1].str.strip()\n",
    "df[4]=df[2].str.split('- ').str[0].str.strip()\n",
    "df.to_csv('normalized/2006.csv',encoding='utf-8-sig')"
   ]
  },
  {
   "cell_type": "code",
   "execution_count": 105,
   "id": "c67e2968-a3e3-4cc1-89a8-6dca31650ee8",
   "metadata": {
    "tags": []
   },
   "outputs": [],
   "source": [
    "f=open('2006p.html','r').read()\n",
    "soup = BeautifulSoup(f, \"html.parser\")"
   ]
  },
  {
   "cell_type": "code",
   "execution_count": 106,
   "id": "e7cf341a-5735-4fde-9438-6671798070af",
   "metadata": {
    "tags": []
   },
   "outputs": [],
   "source": [
    "nested_list=[i.text.strip().split('\\n') for i in soup.findAll('p')]\n",
    "a = [item for sublist in nested_list for item in (sublist if isinstance(sublist, list) else [sublist])]\n",
    "df=pd.DataFrame([a[i].strip()\n",
    "              for i in range(len(a)) if i not in [0]])\n",
    "df[1]=df[0].str.split(' •').str[0].str.strip()\n",
    "df[2]=df[0].str.split(' •').str[1].str.strip()\n",
    "df[3]=df[1].str.split(' ').str[0].str.strip()\n",
    "df[4]=df[1].str.split(' ').str[1].str.strip()\n",
    "df.to_csv('normalized/2006p.csv',encoding='utf-8-sig')"
   ]
  },
  {
   "cell_type": "code",
   "execution_count": 112,
   "id": "f3fdcea4-17e2-48f2-8c74-30ed422800d2",
   "metadata": {
    "tags": []
   },
   "outputs": [],
   "source": [
    "df=pd.read_html('2007.html',encoding='utf-8')[0].dropna()\n",
    "df[1]/=100\n",
    "df.to_csv('normalized/2007.csv',encoding='utf-8-sig')"
   ]
  },
  {
   "cell_type": "code",
   "execution_count": 133,
   "id": "76c41fb2-3cb5-42b5-8a18-acf574e5f433",
   "metadata": {
    "tags": []
   },
   "outputs": [],
   "source": [
    "df=pd.concat(pd.read_html('2007p.html',encoding='utf-8'))\n",
    "df[2]=df[1].str.split(' ').str[0]\n",
    "df[3]=df[1].str.split(',').str[0].str.replace(' + ','+')\n",
    "df[4]=df[3].str.split(' ').str[-2]+' '+df[3].str.split(' ').str[-1]\n",
    "df[5]=df[3].str.split(' ').str[0]+' '+df[3].str.split(' ').str[1]\n",
    "df.to_csv('normalized/2007p.csv',encoding='utf-8-sig')"
   ]
  },
  {
   "cell_type": "code",
   "execution_count": 135,
   "id": "25202a05-78bf-43f6-91d9-6e4df11390d4",
   "metadata": {
    "tags": []
   },
   "outputs": [],
   "source": [
    "df=pd.read_html('2008.html',encoding='utf-8')[0].dropna()\n",
    "df.to_csv('normalized/2008.csv',encoding='utf-8-sig')"
   ]
  },
  {
   "cell_type": "code",
   "execution_count": 143,
   "id": "c2e41356-4040-4704-8230-19ea3ab1f003",
   "metadata": {
    "tags": []
   },
   "outputs": [],
   "source": [
    "f=open('2008p.html','r').read()\n",
    "soup = BeautifulSoup(f, \"html.parser\")"
   ]
  },
  {
   "cell_type": "code",
   "execution_count": 150,
   "id": "02011949-d0b9-4d83-9d02-ced2d9066414",
   "metadata": {
    "tags": []
   },
   "outputs": [],
   "source": [
    "nested_list=[i.text.strip().split('\\n') for i in soup.findAll('li')]\n",
    "a = [item for sublist in nested_list for item in (sublist if isinstance(sublist, list) else [sublist])]\n",
    "df=pd.DataFrame([a[0::3],a[1::3],a[2::3]]).T\n",
    "df[3]=df[0].str.split(' - ').str[0]\n",
    "df[4]=df[0].str.split(' - ').str[1]\n",
    "df[1]=df[1].str.split(' - ').str[1]\n",
    "df[2]=df[2].str.split(' - ').str[1]\n",
    "df.to_csv('normalized/2008p.csv',encoding='utf-8-sig')"
   ]
  },
  {
   "cell_type": "code",
   "execution_count": 151,
   "id": "f1a62ba2-81bc-4c4b-a385-7508fc588b35",
   "metadata": {
    "tags": []
   },
   "outputs": [],
   "source": [
    "f=open('2009p.html','r').read()\n",
    "soup = BeautifulSoup(f, \"html.parser\")"
   ]
  },
  {
   "cell_type": "code",
   "execution_count": 166,
   "id": "edc52b8f-114f-4e37-a2f9-6b74cf84ecc5",
   "metadata": {
    "tags": []
   },
   "outputs": [],
   "source": [
    "nested_list=[i.text.strip().split('\\n') for i in soup.findAll('li')]\n",
    "a = [item.replace('\\xa0','',99) for sublist in nested_list for item in (sublist if isinstance(sublist, list) else [sublist]) if '.0' in item]\n",
    "df=pd.DataFrame(a)\n",
    "df[3]=df[0].str.split(' – ').str[0]\n",
    "df[4]=df[0].str.split(' – ').str[1]\n",
    "df[5]=df[0].str.split(' – ').str[2]\n",
    "df.to_csv('normalized/2009p.csv',encoding='utf-8-sig')"
   ]
  },
  {
   "cell_type": "code",
   "execution_count": 196,
   "id": "3cb51823-3643-4184-8a7f-3ac630773639",
   "metadata": {
    "tags": []
   },
   "outputs": [],
   "source": [
    "df=pd.read_csv('cleaned/2010.csv')"
   ]
  },
  {
   "cell_type": "code",
   "execution_count": 200,
   "id": "5ab97b35-4d98-451c-b388-4d36c12ce11b",
   "metadata": {
    "tags": []
   },
   "outputs": [],
   "source": [
    "df['csapat']=df['helyezes'].str.split(' • ').str[1]\n",
    "df['pontszam']=df['helyezes'].str.split(' • ').str[2]\n",
    "df['helyezes']=df['helyezes'].str.split(' • ').str[0]"
   ]
  },
  {
   "cell_type": "code",
   "execution_count": 202,
   "id": "d62a2a30-6c92-46c3-8fb2-a3e3f1204328",
   "metadata": {
    "tags": []
   },
   "outputs": [],
   "source": [
    "df.to_csv('cleaned/2010.csv',encoding='utf-8-sig')"
   ]
  },
  {
   "cell_type": "code",
   "execution_count": 219,
   "id": "1d581dc1-fb31-4f47-81f1-8ee3a30a20e4",
   "metadata": {
    "tags": []
   },
   "outputs": [],
   "source": [
    "df=pd.read_csv('cleaned/2010p.csv')\n",
    "df['ora']=df['helyszin'].str.split(' •').str[0]\n",
    "df['pontszam']=df['helyszin'].str.split(' •').str[1]\n",
    "df['resztvevok']=df['helyszin'].str.split(' •').str[2]\n",
    "df['program']=df['ora'].str.split('\\xa0•').str[1]\n",
    "df['ora']=df['ora'].str.split('\\xa0•').str[0]\n",
    "df.to_csv('cleaned/2010p.csv',encoding='utf-8-sig')"
   ]
  },
  {
   "cell_type": "code",
   "execution_count": 225,
   "id": "1f0e5336-8e5d-456e-b5e8-7fbf9e574f93",
   "metadata": {
    "tags": []
   },
   "outputs": [],
   "source": [
    "pd.read_html('2011.html',encoding='utf-8',header=0)[0].to_csv('normalized/2011.csv',encoding='utf-8-sig')"
   ]
  },
  {
   "cell_type": "code",
   "execution_count": 261,
   "id": "5faafcaf-7bdb-42e4-a6b1-c50430086849",
   "metadata": {
    "tags": []
   },
   "outputs": [],
   "source": [
    "df=pd.read_csv('normalized/2011p.csv',encoding='utf-8',header=None).dropna(axis=1)\n",
    "df[1]=df[0].str.split(',').str[0]\n",
    "df['ora']=df[0].str.split(',').str[0]\n",
    "df['program']=df[0].str.split(',').str[1]\n",
    "df['helyszin']=df[0].str.split('Helyszín: ').str[1].str.split(';').str[0]\n",
    "df['resztvevok']=df[0].str.split(' Résztvev').str[1].astype(str).str.split(':').str[1].str.split(',').str[0]\n",
    "df['datum']=df[0].str.split(' Résztvev').str[1].astype(str).str.split(':').str[1].str.split(',').str[1]\n",
    "df.to_csv('cleaned/2011p.csv',encoding='utf-8-sig')"
   ]
  },
  {
   "cell_type": "code",
   "execution_count": 459,
   "id": "cc1a9ac0-8ef0-4483-afe2-8a1e6d731bad",
   "metadata": {
    "tags": []
   },
   "outputs": [],
   "source": [
    "df=pd.read_csv('normalized/2012.csv')\n",
    "df.dropna(axis=1,how='all').dropna(axis=0,how='all').to_csv('cleaned/2012.csv',encoding='utf-8-sig')"
   ]
  },
  {
   "cell_type": "code",
   "execution_count": 262,
   "id": "bf467a9c-7215-40fb-9c7f-8bff10f8cf2a",
   "metadata": {
    "tags": []
   },
   "outputs": [],
   "source": [
    "f=open('2013.html','r').read()\n",
    "soup = BeautifulSoup(f, \"html.parser\")"
   ]
  },
  {
   "cell_type": "code",
   "execution_count": 297,
   "id": "fafb73d1-6e2b-4bc6-ae5c-9d20cc19dc89",
   "metadata": {
    "tags": []
   },
   "outputs": [],
   "source": [
    "nested_list=[j.text for j in [i.findAll('span') for i in soup.findAll('div')][0]]\n",
    "b=[i.text.split('\\n\\n') for i in soup.findAll('div')][0][1:-2]\n",
    "df=pd.DataFrame([nested_list,b]).T\n",
    "df['csapat']=df[1].str[:-4].str.split('.').str[1]\n",
    "df.to_csv('normalized/2013.csv',encoding='utf-8-sig')"
   ]
  },
  {
   "cell_type": "code",
   "execution_count": 460,
   "id": "00a7843b-50a3-4e62-b22e-56f70ab53d48",
   "metadata": {
    "tags": []
   },
   "outputs": [],
   "source": [
    "f=open('2015.html','r').read()\n",
    "soup = BeautifulSoup(f, \"html.parser\")"
   ]
  },
  {
   "cell_type": "code",
   "execution_count": 474,
   "id": "855840d2-0585-4e82-ac9c-ead05e489a83",
   "metadata": {
    "tags": []
   },
   "outputs": [],
   "source": [
    "pd.DataFrame([i.text for i in soup.findAll('a',{'class':'csapattcim'})]).to_csv('normalized/2015.csv',encoding='utf-8-sig')"
   ]
  },
  {
   "cell_type": "code",
   "execution_count": 298,
   "id": "f290d47a-d426-4302-a149-f0b21796b77f",
   "metadata": {
    "tags": []
   },
   "outputs": [],
   "source": [
    "f=open('2016.html','r').read()\n",
    "soup = BeautifulSoup(f, \"html.parser\")"
   ]
  },
  {
   "cell_type": "code",
   "execution_count": 331,
   "id": "6aa3dab0-a5b2-46b8-8ac1-e1481bba0169",
   "metadata": {
    "tags": []
   },
   "outputs": [],
   "source": [
    "df=pd.DataFrame([[j.text for j in i.findAll('label')] for i in soup.findAll('div',{'class':'panel-default'})]).T"
   ]
  },
  {
   "cell_type": "code",
   "execution_count": 340,
   "id": "f911f938-260b-4409-a96a-50acc766339c",
   "metadata": {
    "tags": []
   },
   "outputs": [],
   "source": [
    "df2=df[1::2]\n",
    "df2.index=df[::2][0]\n",
    "df2.columns=[''.join(i.split('. ')[1:]) for i in df[::2].loc[0]]\n",
    "df2.to_csv('normalized/2016.csv',encoding='utf-8-sig')"
   ]
  },
  {
   "cell_type": "code",
   "execution_count": 434,
   "id": "96f8aeeb-5d75-4b70-b608-f05acb3880c3",
   "metadata": {
    "tags": []
   },
   "outputs": [],
   "source": [
    "df=pd.concat(pd.read_html('2019.html',encoding='utf-8')[1:],axis=1)\n",
    "df.index=df.T.values[0]\n",
    "df=df.T[1::2].T\n",
    "dk=pd.read_html('2019.html',encoding='utf-8')[0]\n",
    "df.columns=dk[dk.columns[0]][::41].values\n",
    "df=df.T\n",
    "df['Összesen']=dk[dk.columns[1]][0::41].values\n",
    "df=df.T\n",
    "df['Összesen szerezhető']=list(df.index.str.split('(').str[1].str.strip().str.replace(')',''))\n",
    "df.index=df.index.str.split('(').str[0].str.strip()\n",
    "df.to_csv('normalized/2019.csv',encoding='utf-8-sig')"
   ]
  },
  {
   "cell_type": "code",
   "execution_count": 445,
   "id": "7ef3c099-2532-4e70-b5b2-0e35b7a61926",
   "metadata": {
    "tags": []
   },
   "outputs": [],
   "source": [
    "df=pd.concat(pd.read_html('2022.html',encoding='utf-8')[1:],axis=1)\n",
    "df.index=df.T.values[0]\n",
    "df=df.T[1::2].T\n",
    "dk=pd.read_html('2022.html',encoding='utf-8')[0]\n",
    "z=len(df)+2\n",
    "df.columns=dk[dk.columns[0]][::z].values\n",
    "df=df.T\n",
    "df['Összesen']=dk[dk.columns[1]][0::z].values\n",
    "df=df.T\n",
    "df.to_csv('normalized/2022.csv',encoding='utf-8-sig')"
   ]
  },
  {
   "cell_type": "code",
   "execution_count": 452,
   "id": "98933f62-1fa9-49c6-88df-bb5a278f00c4",
   "metadata": {
    "tags": []
   },
   "outputs": [],
   "source": [
    "df=pd.concat(pd.read_html('2023.html',encoding='utf-8')[1:],axis=1)\n",
    "df.index=df.T.values[0]\n",
    "df=df.T[1::2].T\n",
    "dk=pd.read_html('2023.html',encoding='utf-8')[0]\n",
    "z=len(df)+2\n",
    "df.columns=dk[dk.columns[0]][::z].values\n",
    "df=df.T\n",
    "df['Összesen']=dk[dk.columns[1]][0::z].values\n",
    "df=df.T\n",
    "df.to_csv('normalized/2023.csv',encoding='utf-8-sig')"
   ]
  }
 ],
 "metadata": {
  "kernelspec": {
   "display_name": "Python 3 (ipykernel)",
   "language": "python",
   "name": "python3"
  },
  "language_info": {
   "codemirror_mode": {
    "name": "ipython",
    "version": 3
   },
   "file_extension": ".py",
   "mimetype": "text/x-python",
   "name": "python",
   "nbconvert_exporter": "python",
   "pygments_lexer": "ipython3",
   "version": "3.10.10"
  }
 },
 "nbformat": 4,
 "nbformat_minor": 5
}
